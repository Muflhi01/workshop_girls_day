{
 "cells": [
  {
   "cell_type": "markdown",
   "metadata": {},
   "source": [
    "# GDP in German Federal States"
   ]
  },
  {
   "cell_type": "markdown",
   "metadata": {},
   "source": [
    "<img src=\"imgs/eck.jpeg\">"
   ]
  },
  {
   "cell_type": "markdown",
   "metadata": {},
   "source": [
    "## Required Libraries"
   ]
  },
  {
   "cell_type": "code",
   "execution_count": 1,
   "metadata": {
    "collapsed": true
   },
   "outputs": [],
   "source": [
    "import pandas as pd\n",
    "from matplotlib import pyplot as plt\n",
    "import seaborn as sns\n",
    "import warnings\n",
    "warnings.filterwarnings(\"ignore\")\n",
    "%matplotlib inline"
   ]
  },
  {
   "cell_type": "markdown",
   "metadata": {},
   "source": [
    "# Data Source"
   ]
  },
  {
   "cell_type": "code",
   "execution_count": 2,
   "metadata": {
    "collapsed": true
   },
   "outputs": [],
   "source": [
    "url = \"https://en.wikipedia.org/wiki/List_of_German_states_by_GDP\""
   ]
  },
  {
   "cell_type": "markdown",
   "metadata": {},
   "source": [
    "Content of the Wikipedia page:\n",
    "* List of German states by GDP in 2015\n",
    "* List of German states by GDP in 2013\n",
    "* List of German states by GDP in 2012\n",
    "* List of German states by GDP in 2011\n",
    "* List of German states by GDP in 2010\n",
    "* List of German states by GDP in 2009\n",
    "* List of German states by GDP in 2008\n",
    "\n",
    "**NOTE!** List for 2014 is missing (Missing data is a very common case in practice)"
   ]
  },
  {
   "cell_type": "code",
   "execution_count": 3,
   "metadata": {
    "collapsed": false
   },
   "outputs": [],
   "source": [
    "# requirements: https://stackoverflow.com/questions/34555135/pandas-read-html\n",
    "# pd.read_html(url)[year_table_map[2015]]"
   ]
  },
  {
   "cell_type": "markdown",
   "metadata": {},
   "source": [
    "# Methods to be used (Make sure to run all these cells)"
   ]
  },
  {
   "cell_type": "code",
   "execution_count": 4,
   "metadata": {
    "collapsed": true
   },
   "outputs": [],
   "source": [
    "year_table_map = {\n",
    "    2015:3,\n",
    "    2013:4,\n",
    "    2012:5,\n",
    "    2011:6,\n",
    "    2010:7,\n",
    "    2009:8,\n",
    "    2008:9\n",
    "}"
   ]
  },
  {
   "cell_type": "code",
   "execution_count": 5,
   "metadata": {
    "collapsed": false
   },
   "outputs": [],
   "source": [
    "def calculate_population(gdp,gdp_pc):\n",
    "    return int((gdp*1000000000)/gdp_pc)\n",
    "\n",
    "def get_population():\n",
    "    global year_table_map\n",
    "    df = pd.read_html(url)\n",
    "#     print(df)\n",
    "    df = pd.read_html(url)[year_table_map[2015]]\n",
    "#     print(df)\n",
    "    df.columns = [\"STATE\", \"RANK\", \"GDP_EUR\", \"GDP_USD\", \"GDP_PC\"]\n",
    "    df = df.drop([\"RANK\",\"GDP_USD\"],axis=1)\n",
    "    df = df[~df[\"STATE\"].isin([\"States\",\"Germany\",\"Former GDR states and all of Berlin\"])]\n",
    "    df[[\"GDP_EUR\",\"GDP_PC\"]] = df[[\"GDP_EUR\", \"GDP_PC\"]].apply(pd.to_numeric)\n",
    "    df[\"POPULATION\"] = df.apply(lambda x: calculate_population(x[\"GDP_EUR\"], x[\"GDP_PC\"]), axis=1)\n",
    "    df = df[[\"STATE\", \"POPULATION\"]]\n",
    "    return df\n",
    "\n",
    "POPULATION = get_population()\n",
    "\n",
    "def population_for_state(state):\n",
    "    global POPULATION\n",
    "    return POPULATION[POPULATION[\"STATE\"] == state][\"POPULATION\"].values[0]\n",
    "\n",
    "def add_per_capita(x):\n",
    "    global POPULATION\n",
    "    gdp = x[\"GDP_EUR\"]\n",
    "    state = x[\"STATE\"]\n",
    "    population = population_for_state(state)\n",
    "    return (float(gdp)*1000000000)/population\n",
    "\n",
    "def plot_population(population_df):\n",
    "    ax = sns.barplot(population_df[\"POPULATION\"],population_df[\"STATE\"],estimator=abs)\n",
    "    plt.title(\"States by Population\")\n",
    "    ax.set(xlabel='POPULATION', ylabel='STATE')\n",
    "#     plt.xticks(population_df[\"POPULATION\"].valu)\n",
    "\n",
    "def get_table_for_year(url, year, no_per_capita=True):\n",
    "    \"\"\" Returns datafame representation of the table on wikipedia page\n",
    "    \"\"\"\n",
    "    global year_table_map, POPULATION\n",
    "    \n",
    "    if year not in year_table_map.keys():\n",
    "        return \"There is no table for the input year on the Wikipedia page\"\n",
    "    \n",
    "    df = pd.read_html(url)[year_table_map[year]]\n",
    "    if year == 2015:\n",
    "        df.columns = [\"STATE\", \"RANK\", \"GDP_EUR\", \"GDP_USD\", \"GDP_PC\"]\n",
    "        df = df[~df[\"STATE\"].isin([\"States\",\"Germany\",\"Former GDR states and all of Berlin\"])]\n",
    "        df[[\"RANK\",\"GDP_EUR\",\"GDP_USD\",\"GDP_PC\"]] = df[[\"RANK\",\"GDP_EUR\",\"GDP_USD\",\"GDP_PC\",]].apply(pd.to_numeric)\n",
    "        df = df.drop([\"GDP_USD\"], axis=1)\n",
    "        if no_per_capita:\n",
    "            df = df.drop([\"GDP_PC\", \"GDP_USD\"], axis=1)\n",
    "    else: \n",
    "        df.columns = [\"STATE\", \"RANK\", \"GDP_EUR\", \"GDP_USD\", \"GDP_SHARE\"]\n",
    "        df = df[~df[\"STATE\"].isin([\"States\",\"Germany\",\"Former GDR states and all of Berlin\"])]\n",
    "        df[[\"RANK\",\"GDP_EUR\",\"GDP_USD\"]] = df[[\"RANK\",\"GDP_EUR\",\"GDP_USD\"]].apply(pd.to_numeric)\n",
    "        df = df.drop([\"GDP_SHARE\", \"GDP_USD\"], axis=1)\n",
    "        if not no_per_capita:\n",
    "            df[\"GDP_PC\"] = df.apply(lambda x: add_per_capita(x), axis=1)\n",
    "            \n",
    "    return df\n",
    "\n",
    "def plot_gdp_per_capita(year):\n",
    "    df = get_table_for_year(url, 2015, no_per_capita=False)\n",
    "    ax = sns.barplot(df[\"GDP_PC\"],df[\"STATE\"],estimator=abs)\n",
    "    plt.title(\"States by GDP per capita\")\n",
    "    ax.set(xlabel='GDP PER CAPITA', ylabel='STATE')\n",
    "    \n",
    "def merge_tables(years):\n",
    "    df_lst = []\n",
    "    for year in years:\n",
    "        df = get_table_for_year(url, year, no_per_capita=False)\n",
    "        df[\"YEAR\"] = [year]*len(df)\n",
    "#         df = df\n",
    "        df_lst.append(df)\n",
    "    return pd.concat(df_lst).reset_index(drop=True)\n",
    "\n",
    "def plot_gdp_over_time(all_tables, states=[\"Rhineland-Palatinate\"]):\n",
    "    df = all_tables[all_tables[\"STATE\"].isin(states)]\n",
    "    df['UNIT'] = ['EUR']*len(df)\n",
    "    sns.tsplot(df, time=\"YEAR\",condition=\"STATE\", unit=\"UNIT\", value=\"GDP_EUR\")\n",
    "\n",
    "def get_stats(variable):\n",
    "    if variable == \"GDP_EUR\":\n",
    "        unit = \"billion\"\n",
    "    elif variable == \"GDP_PC\":\n",
    "        unit = \"thousands\"\n",
    "    else:\n",
    "        unit = \"\"\n",
    "    \n",
    "    print(\"Average {}: {} ({})\".format(variable,df[variable].mean(), unit))\n",
    "    print(\"Median {}: {} ({})\".format(variable,df[variable].median(),unit))\n",
    "    print(\"Minimal {}: {} ({})\".format(variable,df[variable].min(),unit))\n",
    "    print(\"Maximal {}: {} ({})\".format(variable,df[variable].max(),unit))"
   ]
  },
  {
   "cell_type": "markdown",
   "metadata": {},
   "source": [
    "# Aproximating the population"
   ]
  },
  {
   "cell_type": "markdown",
   "metadata": {},
   "source": [
    "As GDP per capita is given for year 2015 we can aproximate the population of each Bundesland and asume that the populations did not change dramaticaly in the meantime.\n",
    "\n",
    "**The population will be used to aproximate GDP PER CAPITA where it is missing**"
   ]
  },
  {
   "cell_type": "code",
   "execution_count": 6,
   "metadata": {
    "collapsed": false
   },
   "outputs": [
    {
     "data": {
      "text/html": [
       "<div>\n",
       "<table border=\"1\" class=\"dataframe\">\n",
       "  <thead>\n",
       "    <tr style=\"text-align: right;\">\n",
       "      <th></th>\n",
       "      <th>STATE</th>\n",
       "      <th>POPULATION</th>\n",
       "    </tr>\n",
       "  </thead>\n",
       "  <tbody>\n",
       "    <tr>\n",
       "      <th>2</th>\n",
       "      <td>North Rhine-Westphalia</td>\n",
       "      <td>17683037</td>\n",
       "    </tr>\n",
       "    <tr>\n",
       "      <th>3</th>\n",
       "      <td>Bavaria</td>\n",
       "      <td>12744592</td>\n",
       "    </tr>\n",
       "    <tr>\n",
       "      <th>4</th>\n",
       "      <td>Baden-Württemberg</td>\n",
       "      <td>10777564</td>\n",
       "    </tr>\n",
       "    <tr>\n",
       "      <th>6</th>\n",
       "      <td>Hesse</td>\n",
       "      <td>6116221</td>\n",
       "    </tr>\n",
       "    <tr>\n",
       "      <th>7</th>\n",
       "      <td>Lower Saxony</td>\n",
       "      <td>7860443</td>\n",
       "    </tr>\n",
       "    <tr>\n",
       "      <th>8</th>\n",
       "      <td>Rhineland-Palatinate</td>\n",
       "      <td>4021179</td>\n",
       "    </tr>\n",
       "    <tr>\n",
       "      <th>9</th>\n",
       "      <td>Berlin</td>\n",
       "      <td>3485025</td>\n",
       "    </tr>\n",
       "    <tr>\n",
       "      <th>10</th>\n",
       "      <td>Saxony</td>\n",
       "      <td>4055947</td>\n",
       "    </tr>\n",
       "    <tr>\n",
       "      <th>11</th>\n",
       "      <td>Hamburg</td>\n",
       "      <td>1770172</td>\n",
       "    </tr>\n",
       "    <tr>\n",
       "      <th>12</th>\n",
       "      <td>Schleswig-Holstein</td>\n",
       "      <td>2840976</td>\n",
       "    </tr>\n",
       "    <tr>\n",
       "      <th>13</th>\n",
       "      <td>Brandenburg</td>\n",
       "      <td>2464575</td>\n",
       "    </tr>\n",
       "    <tr>\n",
       "      <th>14</th>\n",
       "      <td>Thuringia</td>\n",
       "      <td>2154870</td>\n",
       "    </tr>\n",
       "    <tr>\n",
       "      <th>15</th>\n",
       "      <td>Saxony-Anhalt</td>\n",
       "      <td>2231010</td>\n",
       "    </tr>\n",
       "    <tr>\n",
       "      <th>16</th>\n",
       "      <td>Mecklenburg-Vorpommern</td>\n",
       "      <td>1600586</td>\n",
       "    </tr>\n",
       "    <tr>\n",
       "      <th>17</th>\n",
       "      <td>Saarland</td>\n",
       "      <td>989240</td>\n",
       "    </tr>\n",
       "    <tr>\n",
       "      <th>18</th>\n",
       "      <td>Bremen</td>\n",
       "      <td>663613</td>\n",
       "    </tr>\n",
       "  </tbody>\n",
       "</table>\n",
       "</div>"
      ],
      "text/plain": [
       "                     STATE  POPULATION\n",
       "2   North Rhine-Westphalia    17683037\n",
       "3                  Bavaria    12744592\n",
       "4        Baden-Württemberg    10777564\n",
       "6                    Hesse     6116221\n",
       "7             Lower Saxony     7860443\n",
       "8     Rhineland-Palatinate     4021179\n",
       "9                   Berlin     3485025\n",
       "10                  Saxony     4055947\n",
       "11                 Hamburg     1770172\n",
       "12      Schleswig-Holstein     2840976\n",
       "13             Brandenburg     2464575\n",
       "14               Thuringia     2154870\n",
       "15           Saxony-Anhalt     2231010\n",
       "16  Mecklenburg-Vorpommern     1600586\n",
       "17                Saarland      989240\n",
       "18                  Bremen      663613"
      ]
     },
     "execution_count": 6,
     "metadata": {},
     "output_type": "execute_result"
    }
   ],
   "source": [
    "POPULATION = get_population()\n",
    "POPULATION"
   ]
  },
  {
   "cell_type": "markdown",
   "metadata": {},
   "source": [
    "## Try out states you find interesting!"
   ]
  },
  {
   "cell_type": "code",
   "execution_count": 7,
   "metadata": {
    "collapsed": false
   },
   "outputs": [
    {
     "data": {
      "text/plain": [
       "12744592"
      ]
     },
     "execution_count": 7,
     "metadata": {},
     "output_type": "execute_result"
    }
   ],
   "source": [
    "population_for_state(\"Bavaria\")"
   ]
  },
  {
   "cell_type": "markdown",
   "metadata": {},
   "source": [
    "## Let's plot the population!"
   ]
  },
  {
   "cell_type": "code",
   "execution_count": 8,
   "metadata": {
    "collapsed": false
   },
   "outputs": [
    {
     "data": {
      "image/png": "[encoded data removed]",
      "text/plain": [
       "<matplotlib.figure.Figure at 0xc863ac8>"
      ]
     },
     "metadata": {},
     "output_type": "display_data"
    }
   ],
   "source": [
    "plot_population(POPULATION)"
   ]
  },
  {
   "cell_type": "markdown",
   "metadata": {},
   "source": [
    "# Scraping data from Wikipedia "
   ]
  },
  {
   "cell_type": "markdown",
   "metadata": {},
   "source": [
    "Now, lets download data from the web page. Python has a nice feature that make it easy to download tables from websites automaticaly. For this task, we need just one line of code. However, data usually needs to be procesed and cleaned. The columns we need are:\n",
    "* STATE - Federal states {NRW, Bavaria, etc..}\n",
    "* RANK - Best ranked state has value 1\n",
    "* GDP_EUR - total GDP for state in EUR **BILIONS**\n",
    "* GDP_PC - GDP per capita **THOUSANDS**"
   ]
  },
  {
   "cell_type": "code",
   "execution_count": 9,
   "metadata": {
    "collapsed": false
   },
   "outputs": [
    {
     "data": {
      "text/html": [
       "<div>\n",
       "<table border=\"1\" class=\"dataframe\">\n",
       "  <thead>\n",
       "    <tr style=\"text-align: right;\">\n",
       "      <th></th>\n",
       "      <th>STATE</th>\n",
       "      <th>RANK</th>\n",
       "      <th>GDP_EUR</th>\n",
       "    </tr>\n",
       "  </thead>\n",
       "  <tbody>\n",
       "    <tr>\n",
       "      <th>2</th>\n",
       "      <td>North Rhine-Westphalia</td>\n",
       "      <td>1</td>\n",
       "      <td>547.54</td>\n",
       "    </tr>\n",
       "    <tr>\n",
       "      <th>3</th>\n",
       "      <td>Bavaria</td>\n",
       "      <td>2</td>\n",
       "      <td>444.81</td>\n",
       "    </tr>\n",
       "    <tr>\n",
       "      <th>4</th>\n",
       "      <td>Baden-Württemberg</td>\n",
       "      <td>3</td>\n",
       "      <td>365.06</td>\n",
       "    </tr>\n",
       "    <tr>\n",
       "      <th>5</th>\n",
       "      <td>Hesse</td>\n",
       "      <td>4</td>\n",
       "      <td>221.35</td>\n",
       "    </tr>\n",
       "    <tr>\n",
       "      <th>6</th>\n",
       "      <td>Lower Saxony</td>\n",
       "      <td>5</td>\n",
       "      <td>213.09</td>\n",
       "    </tr>\n",
       "    <tr>\n",
       "      <th>7</th>\n",
       "      <td>Rhineland-Palatinate</td>\n",
       "      <td>6</td>\n",
       "      <td>106.37</td>\n",
       "    </tr>\n",
       "    <tr>\n",
       "      <th>8</th>\n",
       "      <td>Saxony</td>\n",
       "      <td>7</td>\n",
       "      <td>94.92</td>\n",
       "    </tr>\n",
       "    <tr>\n",
       "      <th>9</th>\n",
       "      <td>Berlin</td>\n",
       "      <td>8</td>\n",
       "      <td>88.58</td>\n",
       "    </tr>\n",
       "    <tr>\n",
       "      <th>10</th>\n",
       "      <td>Hamburg</td>\n",
       "      <td>9</td>\n",
       "      <td>87.48</td>\n",
       "    </tr>\n",
       "    <tr>\n",
       "      <th>11</th>\n",
       "      <td>Schleswig-Holstein</td>\n",
       "      <td>10</td>\n",
       "      <td>73.94</td>\n",
       "    </tr>\n",
       "    <tr>\n",
       "      <th>12</th>\n",
       "      <td>Brandenburg</td>\n",
       "      <td>11</td>\n",
       "      <td>54.37</td>\n",
       "    </tr>\n",
       "    <tr>\n",
       "      <th>13</th>\n",
       "      <td>Saxony-Anhalt</td>\n",
       "      <td>12</td>\n",
       "      <td>53.72</td>\n",
       "    </tr>\n",
       "    <tr>\n",
       "      <th>14</th>\n",
       "      <td>Thuringia</td>\n",
       "      <td>13</td>\n",
       "      <td>50.38</td>\n",
       "    </tr>\n",
       "    <tr>\n",
       "      <th>15</th>\n",
       "      <td>Mecklenburg-Vorpommern</td>\n",
       "      <td>14</td>\n",
       "      <td>35.70</td>\n",
       "    </tr>\n",
       "    <tr>\n",
       "      <th>16</th>\n",
       "      <td>Saarland</td>\n",
       "      <td>15</td>\n",
       "      <td>31.05</td>\n",
       "    </tr>\n",
       "    <tr>\n",
       "      <th>17</th>\n",
       "      <td>Bremen</td>\n",
       "      <td>16</td>\n",
       "      <td>27.43</td>\n",
       "    </tr>\n",
       "  </tbody>\n",
       "</table>\n",
       "</div>"
      ],
      "text/plain": [
       "                     STATE  RANK  GDP_EUR\n",
       "2   North Rhine-Westphalia     1   547.54\n",
       "3                  Bavaria     2   444.81\n",
       "4        Baden-Württemberg     3   365.06\n",
       "5                    Hesse     4   221.35\n",
       "6             Lower Saxony     5   213.09\n",
       "7     Rhineland-Palatinate     6   106.37\n",
       "8                   Saxony     7    94.92\n",
       "9                   Berlin     8    88.58\n",
       "10                 Hamburg     9    87.48\n",
       "11      Schleswig-Holstein    10    73.94\n",
       "12             Brandenburg    11    54.37\n",
       "13           Saxony-Anhalt    12    53.72\n",
       "14               Thuringia    13    50.38\n",
       "15  Mecklenburg-Vorpommern    14    35.70\n",
       "16                Saarland    15    31.05\n",
       "17                  Bremen    16    27.43"
      ]
     },
     "execution_count": 9,
     "metadata": {},
     "output_type": "execute_result"
    }
   ],
   "source": [
    "get_table_for_year(url, 2008,no_per_capita=True)"
   ]
  },
  {
   "cell_type": "markdown",
   "metadata": {},
   "source": [
    "Looking at the page, we can see that GDP per capita is specified only for years 2015 and 2008. This information is rather useful, it is GDP divided by the population of a state. For example, [India ranks 7th in the world by total GDP](https://en.wikipedia.org/wiki/List_of_countries_by_GDP_(nominal)) which means it is a very large economy, but when the GDP is dividide by the population of [India takes the 122nd place in the world](https://en.wikipedia.org/wiki/List_of_countries_by_GDP_(PPP)_per_capita), which means it's citizens are not among the richer in todays standings.\n",
    "\n",
    "But, if you remember, we have calculated the populations of all Federal states and this means we can aproximate GDP per capita for them! Just add a parameter **no_per_capita** to False."
   ]
  },
  {
   "cell_type": "code",
   "execution_count": 10,
   "metadata": {
    "collapsed": false
   },
   "outputs": [
    {
     "data": {
      "text/html": [
       "<div>\n",
       "<table border=\"1\" class=\"dataframe\">\n",
       "  <thead>\n",
       "    <tr style=\"text-align: right;\">\n",
       "      <th></th>\n",
       "      <th>STATE</th>\n",
       "      <th>RANK</th>\n",
       "      <th>GDP_EUR</th>\n",
       "      <th>GDP_PC</th>\n",
       "    </tr>\n",
       "  </thead>\n",
       "  <tbody>\n",
       "    <tr>\n",
       "      <th>2</th>\n",
       "      <td>North Rhine-Westphalia</td>\n",
       "      <td>1</td>\n",
       "      <td>645.590</td>\n",
       "      <td>36509</td>\n",
       "    </tr>\n",
       "    <tr>\n",
       "      <th>3</th>\n",
       "      <td>Bavaria</td>\n",
       "      <td>2</td>\n",
       "      <td>549.190</td>\n",
       "      <td>43092</td>\n",
       "    </tr>\n",
       "    <tr>\n",
       "      <th>4</th>\n",
       "      <td>Baden-Württemberg</td>\n",
       "      <td>3</td>\n",
       "      <td>460.687</td>\n",
       "      <td>42745</td>\n",
       "    </tr>\n",
       "    <tr>\n",
       "      <th>6</th>\n",
       "      <td>Hesse</td>\n",
       "      <td>4</td>\n",
       "      <td>263.444</td>\n",
       "      <td>43073</td>\n",
       "    </tr>\n",
       "    <tr>\n",
       "      <th>7</th>\n",
       "      <td>Lower Saxony</td>\n",
       "      <td>5</td>\n",
       "      <td>258.530</td>\n",
       "      <td>32890</td>\n",
       "    </tr>\n",
       "    <tr>\n",
       "      <th>8</th>\n",
       "      <td>Rhineland-Palatinate</td>\n",
       "      <td>6</td>\n",
       "      <td>131.951</td>\n",
       "      <td>32814</td>\n",
       "    </tr>\n",
       "    <tr>\n",
       "      <th>9</th>\n",
       "      <td>Berlin</td>\n",
       "      <td>7</td>\n",
       "      <td>124.161</td>\n",
       "      <td>35627</td>\n",
       "    </tr>\n",
       "    <tr>\n",
       "      <th>10</th>\n",
       "      <td>Saxony</td>\n",
       "      <td>8</td>\n",
       "      <td>112.658</td>\n",
       "      <td>27776</td>\n",
       "    </tr>\n",
       "    <tr>\n",
       "      <th>11</th>\n",
       "      <td>Hamburg</td>\n",
       "      <td>9</td>\n",
       "      <td>109.271</td>\n",
       "      <td>61729</td>\n",
       "    </tr>\n",
       "    <tr>\n",
       "      <th>12</th>\n",
       "      <td>Schleswig-Holstein</td>\n",
       "      <td>10</td>\n",
       "      <td>85.610</td>\n",
       "      <td>30134</td>\n",
       "    </tr>\n",
       "    <tr>\n",
       "      <th>13</th>\n",
       "      <td>Brandenburg</td>\n",
       "      <td>11</td>\n",
       "      <td>65.294</td>\n",
       "      <td>26493</td>\n",
       "    </tr>\n",
       "    <tr>\n",
       "      <th>14</th>\n",
       "      <td>Thuringia</td>\n",
       "      <td>12</td>\n",
       "      <td>56.811</td>\n",
       "      <td>26364</td>\n",
       "    </tr>\n",
       "    <tr>\n",
       "      <th>15</th>\n",
       "      <td>Saxony-Anhalt</td>\n",
       "      <td>13</td>\n",
       "      <td>56.217</td>\n",
       "      <td>25198</td>\n",
       "    </tr>\n",
       "    <tr>\n",
       "      <th>16</th>\n",
       "      <td>Mecklenburg-Vorpommern</td>\n",
       "      <td>14</td>\n",
       "      <td>39.869</td>\n",
       "      <td>24909</td>\n",
       "    </tr>\n",
       "    <tr>\n",
       "      <th>17</th>\n",
       "      <td>Saarland</td>\n",
       "      <td>15</td>\n",
       "      <td>35.028</td>\n",
       "      <td>35409</td>\n",
       "    </tr>\n",
       "    <tr>\n",
       "      <th>18</th>\n",
       "      <td>Bremen</td>\n",
       "      <td>16</td>\n",
       "      <td>31.590</td>\n",
       "      <td>47603</td>\n",
       "    </tr>\n",
       "  </tbody>\n",
       "</table>\n",
       "</div>"
      ],
      "text/plain": [
       "                     STATE  RANK  GDP_EUR  GDP_PC\n",
       "2   North Rhine-Westphalia     1  645.590   36509\n",
       "3                  Bavaria     2  549.190   43092\n",
       "4        Baden-Württemberg     3  460.687   42745\n",
       "6                    Hesse     4  263.444   43073\n",
       "7             Lower Saxony     5  258.530   32890\n",
       "8     Rhineland-Palatinate     6  131.951   32814\n",
       "9                   Berlin     7  124.161   35627\n",
       "10                  Saxony     8  112.658   27776\n",
       "11                 Hamburg     9  109.271   61729\n",
       "12      Schleswig-Holstein    10   85.610   30134\n",
       "13             Brandenburg    11   65.294   26493\n",
       "14               Thuringia    12   56.811   26364\n",
       "15           Saxony-Anhalt    13   56.217   25198\n",
       "16  Mecklenburg-Vorpommern    14   39.869   24909\n",
       "17                Saarland    15   35.028   35409\n",
       "18                  Bremen    16   31.590   47603"
      ]
     },
     "execution_count": 10,
     "metadata": {},
     "output_type": "execute_result"
    }
   ],
   "source": [
    "get_table_for_year(url, 2015, no_per_capita=False)"
   ]
  },
  {
   "cell_type": "markdown",
   "metadata": {},
   "source": [
    "# Some stats"
   ]
  },
  {
   "cell_type": "code",
   "execution_count": 11,
   "metadata": {
    "collapsed": true
   },
   "outputs": [],
   "source": [
    "df = get_table_for_year(url, 2015, no_per_capita=False)"
   ]
  },
  {
   "cell_type": "code",
   "execution_count": 12,
   "metadata": {
    "collapsed": false
   },
   "outputs": [
    {
     "name": "stdout",
     "output_type": "stream",
     "text": [
      "Average GDP_EUR: 189.11881250000002 (billion)\n",
      "Median GDP_EUR: 110.96449999999999 (billion)\n",
      "Minimal GDP_EUR: 31.59 (billion)\n",
      "Maximal GDP_EUR: 645.59 (billion)\n"
     ]
    }
   ],
   "source": [
    "get_stats(\"GDP_EUR\")"
   ]
  },
  {
   "cell_type": "code",
   "execution_count": 13,
   "metadata": {
    "collapsed": false
   },
   "outputs": [
    {
     "name": "stdout",
     "output_type": "stream",
     "text": [
      "Average GDP_PC: 35772.8125 (thousands)\n",
      "Median GDP_PC: 34149.5 (thousands)\n",
      "Minimal GDP_PC: 24909 (thousands)\n",
      "Maximal GDP_PC: 61729 (thousands)\n"
     ]
    }
   ],
   "source": [
    "get_stats(\"GDP_PC\")"
   ]
  },
  {
   "cell_type": "markdown",
   "metadata": {},
   "source": [
    "# Lets se which states have the richest population!"
   ]
  },
  {
   "cell_type": "code",
   "execution_count": 14,
   "metadata": {
    "collapsed": false
   },
   "outputs": [
    {
     "data": {
      "image/png": "[encoded data removed]",
      "text/plain": [
       "<matplotlib.figure.Figure at 0xb451240>"
      ]
     },
     "metadata": {},
     "output_type": "display_data"
    }
   ],
   "source": [
    "plot_gdp_per_capita(2015)"
   ]
  },
  {
   "cell_type": "markdown",
   "metadata": {},
   "source": [
    "## Lets see how GDP changed over the years!"
   ]
  },
  {
   "cell_type": "code",
   "execution_count": 15,
   "metadata": {
    "collapsed": true
   },
   "outputs": [],
   "source": [
    "df = merge_tables([2008,2009,2010,2011,2012,2013,2015])"
   ]
  },
  {
   "cell_type": "code",
   "execution_count": 16,
   "metadata": {
    "collapsed": false
   },
   "outputs": [
    {
     "data": {
      "text/html": [
       "<div>\n",
       "<table border=\"1\" class=\"dataframe\">\n",
       "  <thead>\n",
       "    <tr style=\"text-align: right;\">\n",
       "      <th></th>\n",
       "      <th>STATE</th>\n",
       "      <th>RANK</th>\n",
       "      <th>GDP_EUR</th>\n",
       "      <th>GDP_PC</th>\n",
       "      <th>YEAR</th>\n",
       "    </tr>\n",
       "  </thead>\n",
       "  <tbody>\n",
       "    <tr>\n",
       "      <th>0</th>\n",
       "      <td>North Rhine-Westphalia</td>\n",
       "      <td>1</td>\n",
       "      <td>547.54</td>\n",
       "      <td>30964.138117</td>\n",
       "      <td>2008</td>\n",
       "    </tr>\n",
       "    <tr>\n",
       "      <th>1</th>\n",
       "      <td>Bavaria</td>\n",
       "      <td>2</td>\n",
       "      <td>444.81</td>\n",
       "      <td>34901.862688</td>\n",
       "      <td>2008</td>\n",
       "    </tr>\n",
       "    <tr>\n",
       "      <th>2</th>\n",
       "      <td>Baden-Württemberg</td>\n",
       "      <td>3</td>\n",
       "      <td>365.06</td>\n",
       "      <td>33872.218249</td>\n",
       "      <td>2008</td>\n",
       "    </tr>\n",
       "    <tr>\n",
       "      <th>3</th>\n",
       "      <td>Hesse</td>\n",
       "      <td>4</td>\n",
       "      <td>221.35</td>\n",
       "      <td>36190.647787</td>\n",
       "      <td>2008</td>\n",
       "    </tr>\n",
       "    <tr>\n",
       "      <th>4</th>\n",
       "      <td>Lower Saxony</td>\n",
       "      <td>5</td>\n",
       "      <td>213.09</td>\n",
       "      <td>27109.159115</td>\n",
       "      <td>2008</td>\n",
       "    </tr>\n",
       "    <tr>\n",
       "      <th>5</th>\n",
       "      <td>Rhineland-Palatinate</td>\n",
       "      <td>6</td>\n",
       "      <td>106.37</td>\n",
       "      <td>26452.440938</td>\n",
       "      <td>2008</td>\n",
       "    </tr>\n",
       "    <tr>\n",
       "      <th>6</th>\n",
       "      <td>Saxony</td>\n",
       "      <td>7</td>\n",
       "      <td>94.92</td>\n",
       "      <td>23402.672668</td>\n",
       "      <td>2008</td>\n",
       "    </tr>\n",
       "    <tr>\n",
       "      <th>7</th>\n",
       "      <td>Berlin</td>\n",
       "      <td>8</td>\n",
       "      <td>88.58</td>\n",
       "      <td>25417.321253</td>\n",
       "      <td>2008</td>\n",
       "    </tr>\n",
       "    <tr>\n",
       "      <th>8</th>\n",
       "      <td>Hamburg</td>\n",
       "      <td>9</td>\n",
       "      <td>87.48</td>\n",
       "      <td>49418.926522</td>\n",
       "      <td>2008</td>\n",
       "    </tr>\n",
       "    <tr>\n",
       "      <th>9</th>\n",
       "      <td>Schleswig-Holstein</td>\n",
       "      <td>10</td>\n",
       "      <td>73.94</td>\n",
       "      <td>26026.267029</td>\n",
       "      <td>2008</td>\n",
       "    </tr>\n",
       "    <tr>\n",
       "      <th>10</th>\n",
       "      <td>Brandenburg</td>\n",
       "      <td>11</td>\n",
       "      <td>54.37</td>\n",
       "      <td>22060.598683</td>\n",
       "      <td>2008</td>\n",
       "    </tr>\n",
       "    <tr>\n",
       "      <th>11</th>\n",
       "      <td>Saxony-Anhalt</td>\n",
       "      <td>12</td>\n",
       "      <td>53.72</td>\n",
       "      <td>24078.780463</td>\n",
       "      <td>2008</td>\n",
       "    </tr>\n",
       "    <tr>\n",
       "      <th>12</th>\n",
       "      <td>Thuringia</td>\n",
       "      <td>13</td>\n",
       "      <td>50.38</td>\n",
       "      <td>23379.600626</td>\n",
       "      <td>2008</td>\n",
       "    </tr>\n",
       "    <tr>\n",
       "      <th>13</th>\n",
       "      <td>Mecklenburg-Vorpommern</td>\n",
       "      <td>14</td>\n",
       "      <td>35.70</td>\n",
       "      <td>22304.331039</td>\n",
       "      <td>2008</td>\n",
       "    </tr>\n",
       "    <tr>\n",
       "      <th>14</th>\n",
       "      <td>Saarland</td>\n",
       "      <td>15</td>\n",
       "      <td>31.05</td>\n",
       "      <td>31387.731996</td>\n",
       "      <td>2008</td>\n",
       "    </tr>\n",
       "    <tr>\n",
       "      <th>15</th>\n",
       "      <td>Bremen</td>\n",
       "      <td>16</td>\n",
       "      <td>27.43</td>\n",
       "      <td>41334.331907</td>\n",
       "      <td>2008</td>\n",
       "    </tr>\n",
       "    <tr>\n",
       "      <th>16</th>\n",
       "      <td>North Rhine-Westphalia</td>\n",
       "      <td>1</td>\n",
       "      <td>522.92</td>\n",
       "      <td>29571.843343</td>\n",
       "      <td>2009</td>\n",
       "    </tr>\n",
       "    <tr>\n",
       "      <th>17</th>\n",
       "      <td>Bavaria</td>\n",
       "      <td>2</td>\n",
       "      <td>423.84</td>\n",
       "      <td>33256.458896</td>\n",
       "      <td>2009</td>\n",
       "    </tr>\n",
       "    <tr>\n",
       "      <th>18</th>\n",
       "      <td>Baden-Württemberg</td>\n",
       "      <td>3</td>\n",
       "      <td>341.23</td>\n",
       "      <td>31661.143464</td>\n",
       "      <td>2009</td>\n",
       "    </tr>\n",
       "    <tr>\n",
       "      <th>19</th>\n",
       "      <td>Hesse</td>\n",
       "      <td>4</td>\n",
       "      <td>215.29</td>\n",
       "      <td>35199.839901</td>\n",
       "      <td>2009</td>\n",
       "    </tr>\n",
       "  </tbody>\n",
       "</table>\n",
       "</div>"
      ],
      "text/plain": [
       "                     STATE  RANK  GDP_EUR        GDP_PC  YEAR\n",
       "0   North Rhine-Westphalia     1   547.54  30964.138117  2008\n",
       "1                  Bavaria     2   444.81  34901.862688  2008\n",
       "2        Baden-Württemberg     3   365.06  33872.218249  2008\n",
       "3                    Hesse     4   221.35  36190.647787  2008\n",
       "4             Lower Saxony     5   213.09  27109.159115  2008\n",
       "5     Rhineland-Palatinate     6   106.37  26452.440938  2008\n",
       "6                   Saxony     7    94.92  23402.672668  2008\n",
       "7                   Berlin     8    88.58  25417.321253  2008\n",
       "8                  Hamburg     9    87.48  49418.926522  2008\n",
       "9       Schleswig-Holstein    10    73.94  26026.267029  2008\n",
       "10             Brandenburg    11    54.37  22060.598683  2008\n",
       "11           Saxony-Anhalt    12    53.72  24078.780463  2008\n",
       "12               Thuringia    13    50.38  23379.600626  2008\n",
       "13  Mecklenburg-Vorpommern    14    35.70  22304.331039  2008\n",
       "14                Saarland    15    31.05  31387.731996  2008\n",
       "15                  Bremen    16    27.43  41334.331907  2008\n",
       "16  North Rhine-Westphalia     1   522.92  29571.843343  2009\n",
       "17                 Bavaria     2   423.84  33256.458896  2009\n",
       "18       Baden-Württemberg     3   341.23  31661.143464  2009\n",
       "19                   Hesse     4   215.29  35199.839901  2009"
      ]
     },
     "execution_count": 16,
     "metadata": {},
     "output_type": "execute_result"
    }
   ],
   "source": [
    "df.head(20) #first 20 rows"
   ]
  },
  {
   "cell_type": "markdown",
   "metadata": {},
   "source": [
    "# How did the GDP of Rheinland-Pfalz change over time?"
   ]
  },
  {
   "cell_type": "code",
   "execution_count": 17,
   "metadata": {
    "collapsed": false
   },
   "outputs": [
    {
     "data": {
      "image/png": "[encoded data removed]",
      "text/plain": [
       "<matplotlib.figure.Figure at 0xb3cdfd0>"
      ]
     },
     "metadata": {},
     "output_type": "display_data"
    }
   ],
   "source": [
    "plot_gdp_over_time(df)"
   ]
  },
  {
   "cell_type": "markdown",
   "metadata": {},
   "source": [
    "## Let's compare states! (Choose on your own)"
   ]
  },
  {
   "cell_type": "code",
   "execution_count": 18,
   "metadata": {
    "collapsed": false
   },
   "outputs": [
    {
     "data": {
      "image/png": "[encoded data removed]",
      "text/plain": [
       "<matplotlib.figure.Figure at 0x7b6b5f8>"
      ]
     },
     "metadata": {},
     "output_type": "display_data"
    }
   ],
   "source": [
    "states = [\"Rhineland-Palatinate\",\"Bavaria\",\"Hesse\",\"North Rhine-Westphalia\"]\n",
    "plot_gdp_over_time(df, states=states)"
   ]
  },
  {
   "cell_type": "code",
   "execution_count": null,
   "metadata": {
    "collapsed": true
   },
   "outputs": [],
   "source": []
  }
 ],
 "metadata": {
  "kernelspec": {
   "display_name": "Python 3",
   "language": "python",
   "name": "python3"
  },
  "language_info": {
   "codemirror_mode": {
    "name": "ipython",
    "version": 3
   },
   "file_extension": ".py",
   "mimetype": "text/x-python",
   "name": "python",
   "nbconvert_exporter": "python",
   "pygments_lexer": "ipython3",
   "version": "3.6.0"
  }
 },
 "nbformat": 4,
 "nbformat_minor": 2
}
