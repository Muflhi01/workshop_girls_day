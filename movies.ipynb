{
 "cells": [
  {
   "cell_type": "markdown",
   "metadata": {},
   "source": [
    "# Movies API "
   ]
  },
  {
   "cell_type": "markdown",
   "metadata": {},
   "source": [
    "<img src=\"movies.jpg\">"
   ]
  },
  {
   "cell_type": "markdown",
   "metadata": {},
   "source": [
    "# Required Libraries"
   ]
  },
  {
   "cell_type": "code",
   "execution_count": 21,
   "metadata": {
    "collapsed": true
   },
   "outputs": [],
   "source": [
    "import requests\n",
    "import urllib\n",
    "import pandas as pd \n",
    "from matplotlib import pyplot as plt\n",
    "import seaborn as sns\n",
    "%matplotlib inline"
   ]
  },
  {
   "cell_type": "markdown",
   "metadata": {},
   "source": [
    "## Methods to be used"
   ]
  },
  {
   "cell_type": "code",
   "execution_count": 22,
   "metadata": {
    "collapsed": false
   },
   "outputs": [],
   "source": [
    "def print_movie_meta(response, atr_lst=[\"title\",\"tagline\",\"popularity\",\"budget\",\"revenue\",\"runtime\", \"vote_average\"]):\n",
    "    \"\"\" Prints out parameters from response given in atr_lst\n",
    "    \"\"\"\n",
    "    for atrib in atr_lst:\n",
    "        if atrib in response:\n",
    "            print(\"{}: {}\\n\".format(atrib.upper(), response[atrib]))\n",
    "        else:\n",
    "            print(\"{}: {}\\n\".format(atrib.upper(), \"NO DATA\"))\n",
    "            \n",
    "def search_movies(query):\n",
    "    \"\"\" Returns response for specified textual query\n",
    "    \"\"\"\n",
    "    global API_KEY\n",
    "    params = {\n",
    "        \"api_key\":API_KEY,\n",
    "        \"query\": query,\n",
    "        \"language\":\"en\",\n",
    "        \"include_adult\":\"false\",\n",
    "        \"page\":1\n",
    "    }\n",
    "    print(params)\n",
    "    response = requests.request(\"GET\",gateway+\"search/movie\", data=params).json()['results']\n",
    "    return response \n",
    "\n",
    "def get_movie_by_id(movie_id):\n",
    "    \"\"\" Returns movie with given id\n",
    "    \"\"\"\n",
    "    global API_KEY\n",
    "    return requests.get(gateway+\"movie/{}?api_key={}\".format(movie_id, API_KEY)).json()\n",
    "\n",
    "def get_similar_movies(query):\n",
    "    \"\"\" Returns data frame of similar movies with movie ids and titles\n",
    "    \"\"\"\n",
    "    response = search_movies(query)\n",
    "    print(\"Fetched ID's! \\n\")\n",
    "    movies = []\n",
    "    for movie in response:\n",
    "    #     print(movie[\"id\"])\n",
    "        r = get_movie_by_id(movie[\"id\"])\n",
    "        print(\"Movie with ID:{} fetched!\".format(r[\"id\"]))\n",
    "        movie = [r[\"id\"], r[\"title\"]]\n",
    "        movies.append(movie)\n",
    "    df = pd.DataFrame(movies)\n",
    "    df.columns = [\"ID\", \"TITLE\"]\n",
    "    return df \n",
    "\n",
    "def return_genres():\n",
    "    \"\"\" Returns list of genres\n",
    "    \"\"\"\n",
    "    r = \\\n",
    "    requests.get(\" https://api.themoviedb.org/3/genre/movie/list?api_key={}&langua \\\n",
    "    ge=en-US\".format(API_KEY)).json()\n",
    "    return pd.DataFrame([i for i in r[\"genres\"]])\n",
    "\n",
    "def get_number_of_movies_per_genre(iid):\n",
    "    global API_KEY\n",
    "    url = \"https://api.themoviedb.org/3/genre/{}/movies?api_key={}& \\\n",
    "    language=en-US&include_adult=false\".format(str(iid), API_KEY)\n",
    "    return requests.get(url).json()['total_results']\n",
    "\n",
    "def get_genre_popularity(df):\n",
    "    \"\"\" Adds number of movies to gender data frame\n",
    "    \"\"\"\n",
    "    df[\"movies_count\"] = df[\"id\"].apply(lambda x: get_number_of_movies_per_genre(x))\n",
    "    return df\n",
    "\n",
    "def get_top_movies(sort_by, value):\n",
    "    \"\"\" Returns response for specified textual query\n",
    "    \"\"\"\n",
    "    global API_KEY\n",
    "    params = {\n",
    "        \"api_key\":API_KEY,\n",
    "        \"sort_by\": \"{}.desc\".format(sort_by),\n",
    "        \"language\":\"en\",\n",
    "        \"include_adult\":\"false\",\n",
    "        \"page\":1\n",
    "    }\n",
    "    print(params)\n",
    "    response = requests.request(\"GET\",gateway+\"discover/movie\", data=params).json()[\"results\"]\n",
    "    movies = []\n",
    "    for i in response:\n",
    "        movies.append([i[\"title\"], i[value]])\n",
    "    df = pd.DataFrame(movies)\n",
    "    df.columns = [\"title\", value]\n",
    "    sns.barplot(df[value], df[\"title\"])"
   ]
  },
  {
   "cell_type": "markdown",
   "metadata": {},
   "source": [
    "## What is an API?"
   ]
  },
  {
   "cell_type": "markdown",
   "metadata": {},
   "source": [
    "<img src=\"api.png\">"
   ]
  },
  {
   "cell_type": "markdown",
   "metadata": {},
   "source": [
    "## Gateway and API KEY"
   ]
  },
  {
   "cell_type": "code",
   "execution_count": 23,
   "metadata": {
    "collapsed": true
   },
   "outputs": [],
   "source": [
    "gateway = \"https://api.themoviedb.org/3/\""
   ]
  },
  {
   "cell_type": "code",
   "execution_count": 24,
   "metadata": {
    "collapsed": true
   },
   "outputs": [],
   "source": [
    "API_KEY = \"85360a9a66ef1390085061c341f5cf15\""
   ]
  },
  {
   "cell_type": "markdown",
   "metadata": {},
   "source": [
    "## Example API query"
   ]
  },
  {
   "cell_type": "code",
   "execution_count": 25,
   "metadata": {
    "collapsed": false
   },
   "outputs": [
    {
     "data": {
      "text/plain": [
       "{'adult': False,\n",
       " 'backdrop_path': '/phszHPFVhPHhMZgo0fWTKBDQsJA.jpg',\n",
       " 'belongs_to_collection': {'backdrop_path': '/zI0q2ENcQOLECbe0gAEGlncVh2j.jpg',\n",
       "  'id': 8945,\n",
       "  'name': 'Mad Max Collection',\n",
       "  'poster_path': '/jZowUf4okNYuSlgj5iURE7CDMho.jpg'},\n",
       " 'budget': 150000000,\n",
       " 'genres': [{'id': 28, 'name': 'Action'},\n",
       "  {'id': 12, 'name': 'Adventure'},\n",
       "  {'id': 878, 'name': 'Science Fiction'},\n",
       "  {'id': 53, 'name': 'Thriller'}],\n",
       " 'homepage': 'http://www.madmaxmovie.com/',\n",
       " 'id': 76341,\n",
       " 'imdb_id': 'tt1392190',\n",
       " 'original_language': 'en',\n",
       " 'original_title': 'Mad Max: Fury Road',\n",
       " 'overview': \"An apocalyptic story set in the furthest reaches of our planet, in a stark desert landscape where humanity is broken, and most everyone is crazed fighting for the necessities of life. Within this world exist two rebels on the run who just might be able to restore order. There's Max, a man of action and a man of few words, who seeks peace of mind following the loss of his wife and child in the aftermath of the chaos. And Furiosa, a woman of action and a woman who believes her path to survival may be achieved if she can make it across the desert back to her childhood homeland.\",\n",
       " 'popularity': 42.644473,\n",
       " 'poster_path': '/kqjL17yufvn9OVLyXYpvtyrFfak.jpg',\n",
       " 'production_companies': [{'id': 79,\n",
       "   'logo_path': '/tpFpsqbleCzEE2p5EgvUq6ozfCA.png',\n",
       "   'name': 'Village Roadshow Pictures',\n",
       "   'origin_country': ''},\n",
       "  {'id': 2537,\n",
       "   'logo_path': None,\n",
       "   'name': 'Kennedy Miller Productions',\n",
       "   'origin_country': ''},\n",
       "  {'id': 174,\n",
       "   'logo_path': '/6rFNo5taSC9i0Sxnl81nucQMsw9.png',\n",
       "   'name': 'Warner Bros. Pictures',\n",
       "   'origin_country': 'US'}],\n",
       " 'production_countries': [{'iso_3166_1': 'AU', 'name': 'Australia'},\n",
       "  {'iso_3166_1': 'US', 'name': 'United States of America'}],\n",
       " 'release_date': '2015-05-13',\n",
       " 'revenue': 378858340,\n",
       " 'runtime': 120,\n",
       " 'spoken_languages': [{'iso_639_1': 'en', 'name': 'English'}],\n",
       " 'status': 'Released',\n",
       " 'tagline': 'What a Lovely Day.',\n",
       " 'title': 'Mad Max: Fury Road',\n",
       " 'video': False,\n",
       " 'vote_average': 7.3,\n",
       " 'vote_count': 11234}"
      ]
     },
     "execution_count": 25,
     "metadata": {},
     "output_type": "execute_result"
    }
   ],
   "source": [
    "requests.get(gateway+\"movie/76341?api_key={}&language=en\".format(API_KEY)).json()"
   ]
  },
  {
   "cell_type": "markdown",
   "metadata": {},
   "source": [
    "### Let's make this prettier"
   ]
  },
  {
   "cell_type": "code",
   "execution_count": 26,
   "metadata": {
    "collapsed": true
   },
   "outputs": [],
   "source": [
    "response = requests.get(gateway+\"movie/76341?api_key={}&language=en\".format(API_KEY)).json()"
   ]
  },
  {
   "cell_type": "code",
   "execution_count": 27,
   "metadata": {
    "collapsed": false
   },
   "outputs": [
    {
     "name": "stdout",
     "output_type": "stream",
     "text": [
      "TITLE: Mad Max: Fury Road\n",
      "\n",
      "TAGLINE: What a Lovely Day.\n",
      "\n",
      "POPULARITY: 42.644473\n",
      "\n",
      "BUDGET: 150000000\n",
      "\n",
      "REVENUE: 378858340\n",
      "\n",
      "RUNTIME: 120\n",
      "\n",
      "VOTE_AVERAGE: 7.3\n",
      "\n"
     ]
    }
   ],
   "source": [
    "print_movie_meta(response, [\"title\", \"tagline\", \"popularity\",\"budget\",\"revenue\",\"runtime\", \"vote_average\"])"
   ]
  },
  {
   "cell_type": "markdown",
   "metadata": {},
   "source": [
    "## Let's find our favourite movie"
   ]
  },
  {
   "cell_type": "code",
   "execution_count": 28,
   "metadata": {
    "collapsed": false
   },
   "outputs": [
    {
     "name": "stdout",
     "output_type": "stream",
     "text": [
      "{'api_key': '85360a9a66ef1390085061c341f5cf15', 'query': 'Harry Potter', 'language': 'en', 'include_adult': 'false', 'page': 1}\n"
     ]
    }
   ],
   "source": [
    "response = search_movies(\"Harry Potter\")"
   ]
  },
  {
   "cell_type": "markdown",
   "metadata": {},
   "source": [
    "Sometimes we will get more than one result, so we need to specify which do we want, like:\n",
    "* response[0] - first result\n",
    "* response[1] - second result"
   ]
  },
  {
   "cell_type": "code",
   "execution_count": 29,
   "metadata": {
    "collapsed": false
   },
   "outputs": [
    {
     "name": "stdout",
     "output_type": "stream",
     "text": [
      "TITLE: Harry Potter and the Philosopher's Stone\n",
      "\n",
      "POPULARITY: 27.470042\n",
      "\n",
      "VOTE_AVERAGE: 7.6\n",
      "\n"
     ]
    }
   ],
   "source": [
    "print_movie_meta(response[3], [\"title\", \"popularity\",\"vote_average\"])"
   ]
  },
  {
   "cell_type": "markdown",
   "metadata": {},
   "source": [
    "# Let's find similar movies"
   ]
  },
  {
   "cell_type": "code",
   "execution_count": 30,
   "metadata": {
    "collapsed": false
   },
   "outputs": [
    {
     "name": "stdout",
     "output_type": "stream",
     "text": [
      "{'api_key': '85360a9a66ef1390085061c341f5cf15', 'query': 'Spiderman', 'language': 'en', 'include_adult': 'false', 'page': 1}\n",
      "Fetched ID's! \n",
      "\n",
      "Movie with ID:557 fetched!\n",
      "Movie with ID:315635 fetched!\n",
      "Movie with ID:559 fetched!\n",
      "Movie with ID:68658 fetched!\n",
      "Movie with ID:558 fetched!\n",
      "Movie with ID:1930 fetched!\n",
      "Movie with ID:102382 fetched!\n",
      "Movie with ID:112679 fetched!\n",
      "Movie with ID:181508 fetched!\n",
      "Movie with ID:148918 fetched!\n",
      "Movie with ID:49131 fetched!\n",
      "Movie with ID:172799 fetched!\n",
      "Movie with ID:445033 fetched!\n",
      "Movie with ID:429617 fetched!\n",
      "Movie with ID:228088 fetched!\n",
      "Movie with ID:324857 fetched!\n",
      "Movie with ID:505800 fetched!\n",
      "Movie with ID:225914 fetched!\n",
      "Movie with ID:225925 fetched!\n",
      "Movie with ID:473868 fetched!\n"
     ]
    }
   ],
   "source": [
    "similar_movies = get_similar_movies(\"Spiderman\")"
   ]
  },
  {
   "cell_type": "code",
   "execution_count": 31,
   "metadata": {
    "collapsed": false
   },
   "outputs": [
    {
     "data": {
      "text/html": [
       "<div>\n",
       "<table border=\"1\" class=\"dataframe\">\n",
       "  <thead>\n",
       "    <tr style=\"text-align: right;\">\n",
       "      <th></th>\n",
       "      <th>ID</th>\n",
       "      <th>TITLE</th>\n",
       "    </tr>\n",
       "  </thead>\n",
       "  <tbody>\n",
       "    <tr>\n",
       "      <th>0</th>\n",
       "      <td>557</td>\n",
       "      <td>Spider-Man</td>\n",
       "    </tr>\n",
       "    <tr>\n",
       "      <th>1</th>\n",
       "      <td>315635</td>\n",
       "      <td>Spider-Man: Homecoming</td>\n",
       "    </tr>\n",
       "    <tr>\n",
       "      <th>2</th>\n",
       "      <td>559</td>\n",
       "      <td>Spider-Man 3</td>\n",
       "    </tr>\n",
       "    <tr>\n",
       "      <th>3</th>\n",
       "      <td>68658</td>\n",
       "      <td>Spiderman</td>\n",
       "    </tr>\n",
       "    <tr>\n",
       "      <th>4</th>\n",
       "      <td>558</td>\n",
       "      <td>Spider-Man 2</td>\n",
       "    </tr>\n",
       "    <tr>\n",
       "      <th>5</th>\n",
       "      <td>1930</td>\n",
       "      <td>The Amazing Spider-Man</td>\n",
       "    </tr>\n",
       "    <tr>\n",
       "      <th>6</th>\n",
       "      <td>102382</td>\n",
       "      <td>The Amazing Spider-Man 2</td>\n",
       "    </tr>\n",
       "    <tr>\n",
       "      <th>7</th>\n",
       "      <td>112679</td>\n",
       "      <td>Italian Spiderman</td>\n",
       "    </tr>\n",
       "    <tr>\n",
       "      <th>8</th>\n",
       "      <td>181508</td>\n",
       "      <td>Spider-Man Tech</td>\n",
       "    </tr>\n",
       "    <tr>\n",
       "      <th>9</th>\n",
       "      <td>148918</td>\n",
       "      <td>Superman, Spiderman or Batman</td>\n",
       "    </tr>\n",
       "    <tr>\n",
       "      <th>10</th>\n",
       "      <td>49131</td>\n",
       "      <td>Spiderman: The Ultimate Villain Showdown</td>\n",
       "    </tr>\n",
       "    <tr>\n",
       "      <th>11</th>\n",
       "      <td>172799</td>\n",
       "      <td>Spider-Man vs. Doc Ock</td>\n",
       "    </tr>\n",
       "    <tr>\n",
       "      <th>12</th>\n",
       "      <td>445033</td>\n",
       "      <td>Spider-Man</td>\n",
       "    </tr>\n",
       "    <tr>\n",
       "      <th>13</th>\n",
       "      <td>429617</td>\n",
       "      <td>Untitled Spider-Man: Homecoming Sequel</td>\n",
       "    </tr>\n",
       "    <tr>\n",
       "      <th>14</th>\n",
       "      <td>228088</td>\n",
       "      <td>Spider-Man - Once Upon a Time the Super Heroes</td>\n",
       "    </tr>\n",
       "    <tr>\n",
       "      <th>15</th>\n",
       "      <td>324857</td>\n",
       "      <td>Spider-Man: Into the Spider-Verse</td>\n",
       "    </tr>\n",
       "    <tr>\n",
       "      <th>16</th>\n",
       "      <td>505800</td>\n",
       "      <td>Spider-Man: Commencement</td>\n",
       "    </tr>\n",
       "    <tr>\n",
       "      <th>17</th>\n",
       "      <td>225914</td>\n",
       "      <td>The Amazing Spider-Man</td>\n",
       "    </tr>\n",
       "    <tr>\n",
       "      <th>18</th>\n",
       "      <td>225925</td>\n",
       "      <td>Spider-Man Strikes Back</td>\n",
       "    </tr>\n",
       "    <tr>\n",
       "      <th>19</th>\n",
       "      <td>473868</td>\n",
       "      <td>Spider-Man: Homecoming, NBA Finals: Watch the ...</td>\n",
       "    </tr>\n",
       "  </tbody>\n",
       "</table>\n",
       "</div>"
      ],
      "text/plain": [
       "        ID                                              TITLE\n",
       "0      557                                         Spider-Man\n",
       "1   315635                             Spider-Man: Homecoming\n",
       "2      559                                       Spider-Man 3\n",
       "3    68658                                          Spiderman\n",
       "4      558                                       Spider-Man 2\n",
       "5     1930                             The Amazing Spider-Man\n",
       "6   102382                           The Amazing Spider-Man 2\n",
       "7   112679                                  Italian Spiderman\n",
       "8   181508                                    Spider-Man Tech\n",
       "9   148918                      Superman, Spiderman or Batman\n",
       "10   49131           Spiderman: The Ultimate Villain Showdown\n",
       "11  172799                             Spider-Man vs. Doc Ock\n",
       "12  445033                                         Spider-Man\n",
       "13  429617             Untitled Spider-Man: Homecoming Sequel\n",
       "14  228088     Spider-Man - Once Upon a Time the Super Heroes\n",
       "15  324857                  Spider-Man: Into the Spider-Verse\n",
       "16  505800                           Spider-Man: Commencement\n",
       "17  225914                             The Amazing Spider-Man\n",
       "18  225925                            Spider-Man Strikes Back\n",
       "19  473868  Spider-Man: Homecoming, NBA Finals: Watch the ..."
      ]
     },
     "execution_count": 31,
     "metadata": {},
     "output_type": "execute_result"
    }
   ],
   "source": [
    "similar_movies"
   ]
  },
  {
   "cell_type": "markdown",
   "metadata": {},
   "source": [
    "## Let's get more details per ID"
   ]
  },
  {
   "cell_type": "code",
   "execution_count": 32,
   "metadata": {
    "collapsed": false
   },
   "outputs": [
    {
     "name": "stdout",
     "output_type": "stream",
     "text": [
      "TITLE: Spider-Man\n",
      "\n",
      "TAGLINE: With great power comes great responsibility.\n",
      "\n",
      "POPULARITY: 32.074662\n",
      "\n",
      "BUDGET: 139000000\n",
      "\n",
      "REVENUE: 821708551\n",
      "\n",
      "RUNTIME: 121\n",
      "\n",
      "VOTE_AVERAGE: 6.9\n",
      "\n"
     ]
    }
   ],
   "source": [
    "response = get_movie_by_id(557)\n",
    "print_movie_meta(response)"
   ]
  },
  {
   "cell_type": "markdown",
   "metadata": {},
   "source": [
    "# What are the movie Genres?"
   ]
  },
  {
   "cell_type": "code",
   "execution_count": 33,
   "metadata": {
    "collapsed": false
   },
   "outputs": [],
   "source": [
    "genres = return_genres()"
   ]
  },
  {
   "cell_type": "code",
   "execution_count": 34,
   "metadata": {
    "collapsed": false
   },
   "outputs": [
    {
     "data": {
      "text/html": [
       "<div>\n",
       "<table border=\"1\" class=\"dataframe\">\n",
       "  <thead>\n",
       "    <tr style=\"text-align: right;\">\n",
       "      <th></th>\n",
       "      <th>id</th>\n",
       "      <th>name</th>\n",
       "    </tr>\n",
       "  </thead>\n",
       "  <tbody>\n",
       "    <tr>\n",
       "      <th>0</th>\n",
       "      <td>28</td>\n",
       "      <td>Action</td>\n",
       "    </tr>\n",
       "    <tr>\n",
       "      <th>1</th>\n",
       "      <td>12</td>\n",
       "      <td>Adventure</td>\n",
       "    </tr>\n",
       "    <tr>\n",
       "      <th>2</th>\n",
       "      <td>16</td>\n",
       "      <td>Animation</td>\n",
       "    </tr>\n",
       "    <tr>\n",
       "      <th>3</th>\n",
       "      <td>35</td>\n",
       "      <td>Comedy</td>\n",
       "    </tr>\n",
       "    <tr>\n",
       "      <th>4</th>\n",
       "      <td>80</td>\n",
       "      <td>Crime</td>\n",
       "    </tr>\n",
       "    <tr>\n",
       "      <th>5</th>\n",
       "      <td>99</td>\n",
       "      <td>Documentary</td>\n",
       "    </tr>\n",
       "    <tr>\n",
       "      <th>6</th>\n",
       "      <td>18</td>\n",
       "      <td>Drama</td>\n",
       "    </tr>\n",
       "    <tr>\n",
       "      <th>7</th>\n",
       "      <td>10751</td>\n",
       "      <td>Family</td>\n",
       "    </tr>\n",
       "    <tr>\n",
       "      <th>8</th>\n",
       "      <td>14</td>\n",
       "      <td>Fantasy</td>\n",
       "    </tr>\n",
       "    <tr>\n",
       "      <th>9</th>\n",
       "      <td>36</td>\n",
       "      <td>History</td>\n",
       "    </tr>\n",
       "    <tr>\n",
       "      <th>10</th>\n",
       "      <td>27</td>\n",
       "      <td>Horror</td>\n",
       "    </tr>\n",
       "    <tr>\n",
       "      <th>11</th>\n",
       "      <td>10402</td>\n",
       "      <td>Music</td>\n",
       "    </tr>\n",
       "    <tr>\n",
       "      <th>12</th>\n",
       "      <td>9648</td>\n",
       "      <td>Mystery</td>\n",
       "    </tr>\n",
       "    <tr>\n",
       "      <th>13</th>\n",
       "      <td>10749</td>\n",
       "      <td>Romance</td>\n",
       "    </tr>\n",
       "    <tr>\n",
       "      <th>14</th>\n",
       "      <td>878</td>\n",
       "      <td>Science Fiction</td>\n",
       "    </tr>\n",
       "    <tr>\n",
       "      <th>15</th>\n",
       "      <td>10770</td>\n",
       "      <td>TV Movie</td>\n",
       "    </tr>\n",
       "    <tr>\n",
       "      <th>16</th>\n",
       "      <td>53</td>\n",
       "      <td>Thriller</td>\n",
       "    </tr>\n",
       "    <tr>\n",
       "      <th>17</th>\n",
       "      <td>10752</td>\n",
       "      <td>War</td>\n",
       "    </tr>\n",
       "    <tr>\n",
       "      <th>18</th>\n",
       "      <td>37</td>\n",
       "      <td>Western</td>\n",
       "    </tr>\n",
       "  </tbody>\n",
       "</table>\n",
       "</div>"
      ],
      "text/plain": [
       "       id             name\n",
       "0      28           Action\n",
       "1      12        Adventure\n",
       "2      16        Animation\n",
       "3      35           Comedy\n",
       "4      80            Crime\n",
       "5      99      Documentary\n",
       "6      18            Drama\n",
       "7   10751           Family\n",
       "8      14          Fantasy\n",
       "9      36          History\n",
       "10     27           Horror\n",
       "11  10402            Music\n",
       "12   9648          Mystery\n",
       "13  10749          Romance\n",
       "14    878  Science Fiction\n",
       "15  10770         TV Movie\n",
       "16     53         Thriller\n",
       "17  10752              War\n",
       "18     37          Western"
      ]
     },
     "execution_count": 34,
     "metadata": {},
     "output_type": "execute_result"
    }
   ],
   "source": [
    "genres"
   ]
  },
  {
   "cell_type": "markdown",
   "metadata": {},
   "source": [
    "# Which is the most common genre? "
   ]
  },
  {
   "cell_type": "code",
   "execution_count": 35,
   "metadata": {
    "collapsed": false
   },
   "outputs": [],
   "source": [
    "genres = get_genre_popularity(genres)"
   ]
  },
  {
   "cell_type": "code",
   "execution_count": 36,
   "metadata": {
    "collapsed": false
   },
   "outputs": [
    {
     "data": {
      "text/html": [
       "<div>\n",
       "<table border=\"1\" class=\"dataframe\">\n",
       "  <thead>\n",
       "    <tr style=\"text-align: right;\">\n",
       "      <th></th>\n",
       "      <th>id</th>\n",
       "      <th>name</th>\n",
       "      <th>movies_count</th>\n",
       "    </tr>\n",
       "  </thead>\n",
       "  <tbody>\n",
       "    <tr>\n",
       "      <th>0</th>\n",
       "      <td>28</td>\n",
       "      <td>Action</td>\n",
       "      <td>21432</td>\n",
       "    </tr>\n",
       "    <tr>\n",
       "      <th>1</th>\n",
       "      <td>12</td>\n",
       "      <td>Adventure</td>\n",
       "      <td>11234</td>\n",
       "    </tr>\n",
       "    <tr>\n",
       "      <th>2</th>\n",
       "      <td>16</td>\n",
       "      <td>Animation</td>\n",
       "      <td>14794</td>\n",
       "    </tr>\n",
       "    <tr>\n",
       "      <th>3</th>\n",
       "      <td>35</td>\n",
       "      <td>Comedy</td>\n",
       "      <td>57855</td>\n",
       "    </tr>\n",
       "    <tr>\n",
       "      <th>4</th>\n",
       "      <td>80</td>\n",
       "      <td>Crime</td>\n",
       "      <td>14814</td>\n",
       "    </tr>\n",
       "    <tr>\n",
       "      <th>5</th>\n",
       "      <td>99</td>\n",
       "      <td>Documentary</td>\n",
       "      <td>37290</td>\n",
       "    </tr>\n",
       "    <tr>\n",
       "      <th>6</th>\n",
       "      <td>18</td>\n",
       "      <td>Drama</td>\n",
       "      <td>84946</td>\n",
       "    </tr>\n",
       "    <tr>\n",
       "      <th>7</th>\n",
       "      <td>10751</td>\n",
       "      <td>Family</td>\n",
       "      <td>11780</td>\n",
       "    </tr>\n",
       "    <tr>\n",
       "      <th>8</th>\n",
       "      <td>14</td>\n",
       "      <td>Fantasy</td>\n",
       "      <td>7706</td>\n",
       "    </tr>\n",
       "    <tr>\n",
       "      <th>9</th>\n",
       "      <td>36</td>\n",
       "      <td>History</td>\n",
       "      <td>5279</td>\n",
       "    </tr>\n",
       "    <tr>\n",
       "      <th>10</th>\n",
       "      <td>27</td>\n",
       "      <td>Horror</td>\n",
       "      <td>18352</td>\n",
       "    </tr>\n",
       "    <tr>\n",
       "      <th>11</th>\n",
       "      <td>10402</td>\n",
       "      <td>Music</td>\n",
       "      <td>14151</td>\n",
       "    </tr>\n",
       "    <tr>\n",
       "      <th>12</th>\n",
       "      <td>9648</td>\n",
       "      <td>Mystery</td>\n",
       "      <td>7399</td>\n",
       "    </tr>\n",
       "    <tr>\n",
       "      <th>13</th>\n",
       "      <td>10749</td>\n",
       "      <td>Romance</td>\n",
       "      <td>21983</td>\n",
       "    </tr>\n",
       "    <tr>\n",
       "      <th>14</th>\n",
       "      <td>878</td>\n",
       "      <td>Science Fiction</td>\n",
       "      <td>8789</td>\n",
       "    </tr>\n",
       "    <tr>\n",
       "      <th>15</th>\n",
       "      <td>10770</td>\n",
       "      <td>TV Movie</td>\n",
       "      <td>5043</td>\n",
       "    </tr>\n",
       "    <tr>\n",
       "      <th>16</th>\n",
       "      <td>53</td>\n",
       "      <td>Thriller</td>\n",
       "      <td>20791</td>\n",
       "    </tr>\n",
       "    <tr>\n",
       "      <th>17</th>\n",
       "      <td>10752</td>\n",
       "      <td>War</td>\n",
       "      <td>4584</td>\n",
       "    </tr>\n",
       "    <tr>\n",
       "      <th>18</th>\n",
       "      <td>37</td>\n",
       "      <td>Western</td>\n",
       "      <td>4743</td>\n",
       "    </tr>\n",
       "  </tbody>\n",
       "</table>\n",
       "</div>"
      ],
      "text/plain": [
       "       id             name  movies_count\n",
       "0      28           Action         21432\n",
       "1      12        Adventure         11234\n",
       "2      16        Animation         14794\n",
       "3      35           Comedy         57855\n",
       "4      80            Crime         14814\n",
       "5      99      Documentary         37290\n",
       "6      18            Drama         84946\n",
       "7   10751           Family         11780\n",
       "8      14          Fantasy          7706\n",
       "9      36          History          5279\n",
       "10     27           Horror         18352\n",
       "11  10402            Music         14151\n",
       "12   9648          Mystery          7399\n",
       "13  10749          Romance         21983\n",
       "14    878  Science Fiction          8789\n",
       "15  10770         TV Movie          5043\n",
       "16     53         Thriller         20791\n",
       "17  10752              War          4584\n",
       "18     37          Western          4743"
      ]
     },
     "execution_count": 36,
     "metadata": {},
     "output_type": "execute_result"
    }
   ],
   "source": [
    "genres"
   ]
  },
  {
   "cell_type": "markdown",
   "metadata": {},
   "source": [
    "## Let's plot this"
   ]
  },
  {
   "cell_type": "code",
   "execution_count": 37,
   "metadata": {
    "collapsed": false
   },
   "outputs": [
    {
     "data": {
      "text/plain": [
       "<matplotlib.text.Text at 0xc85c6d8>"
      ]
     },
     "execution_count": 37,
     "metadata": {},
     "output_type": "execute_result"
    },
    {
     "data": {
      "image/png": "[encoded data removed]",
      "text/plain": [
       "<matplotlib.figure.Figure at 0xc6c4dd8>"
      ]
     },
     "metadata": {},
     "output_type": "display_data"
    }
   ],
   "source": [
    "sns.barplot(genres[\"movies_count\"], genres[\"name\"])\n",
    "plt.title(\"Genre Popularity\")"
   ]
  },
  {
   "cell_type": "markdown",
   "metadata": {},
   "source": [
    "# Let's get most popular movies!"
   ]
  },
  {
   "cell_type": "code",
   "execution_count": 38,
   "metadata": {
    "collapsed": false
   },
   "outputs": [
    {
     "name": "stdout",
     "output_type": "stream",
     "text": [
      "{'api_key': '85360a9a66ef1390085061c341f5cf15', 'sort_by': 'popularity.desc', 'language': 'en', 'include_adult': 'false', 'page': 1}\n"
     ]
    },
    {
     "data": {
      "image/png": "[encoded data removed]",
      "text/plain": [
       "<matplotlib.figure.Figure at 0xc7ae8d0>"
      ]
     },
     "metadata": {},
     "output_type": "display_data"
    }
   ],
   "source": [
    "get_top_movies(\"popularity\", \"popularity\")"
   ]
  },
  {
   "cell_type": "markdown",
   "metadata": {},
   "source": [
    "# Popularity of movies with highest Revenue"
   ]
  },
  {
   "cell_type": "code",
   "execution_count": 39,
   "metadata": {
    "collapsed": false
   },
   "outputs": [
    {
     "name": "stdout",
     "output_type": "stream",
     "text": [
      "{'api_key': '85360a9a66ef1390085061c341f5cf15', 'sort_by': 'revenue.desc', 'language': 'en', 'include_adult': 'false', 'page': 1}\n"
     ]
    },
    {
     "data": {
      "image/png": "[encoded data removed]",
      "text/plain": [
       "<matplotlib.figure.Figure at 0xc7ba630>"
      ]
     },
     "metadata": {},
     "output_type": "display_data"
    }
   ],
   "source": [
    "get_top_movies(\"revenue\", \"popularity\")"
   ]
  },
  {
   "cell_type": "code",
   "execution_count": null,
   "metadata": {
    "collapsed": true
   },
   "outputs": [],
   "source": []
  }
 ],
 "metadata": {
  "kernelspec": {
   "display_name": "Python 3",
   "language": "python",
   "name": "python3"
  },
  "language_info": {
   "codemirror_mode": {
    "name": "ipython",
    "version": 3
   },
   "file_extension": ".py",
   "mimetype": "text/x-python",
   "name": "python",
   "nbconvert_exporter": "python",
   "pygments_lexer": "ipython3",
   "version": "3.6.0"
  }
 },
 "nbformat": 4,
 "nbformat_minor": 2
}
